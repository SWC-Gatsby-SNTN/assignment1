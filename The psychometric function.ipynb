{
 "cells": [
  {
   "cell_type": "markdown",
   "metadata": {},
   "source": [
    "## Deriving the psychometric function\n",
    "\n",
    "This jupyter notebook is intended to give background on the psychometric function, which is used in psychophysics to model responses in a two-alternative forced choice task. You can run all cells below by selecting the cell, and pressing shift-enter."
   ]
  },
  {
   "cell_type": "code",
   "execution_count": 61,
   "metadata": {
    "collapsed": true
   },
   "outputs": [],
   "source": [
    "import numpy as np\n",
    "import matplotlib.pyplot as plt\n",
    "from ipywidgets import interact\n",
    "plt.style.use('ggplot')"
   ]
  },
  {
   "cell_type": "markdown",
   "metadata": {},
   "source": [
    "First, we define a Gaussian distribution:\n",
    "\n",
    "$ f(x) = \\frac{1}{\\sqrt{2 \\pi \\sigma^2}} \\exp \\left( - \\frac{(x - \\mu)^2}{2 \\sigma^2} \\right)  $\n",
    "\n",
    "where $\\mu$ is the mean, and $\\sigma$ is the standard deviation. "
   ]
  },
  {
   "cell_type": "code",
   "execution_count": 62,
   "metadata": {},
   "outputs": [],
   "source": [
    "def gaussian(xs, mu, sigma):\n",
    "    return np.exp(-(xs - mu) ** 2 / (2 * sigma ** 2)) / np.sqrt(2 * np.pi * sigma ** 2)"
   ]
  },
  {
   "cell_type": "code",
   "execution_count": 77,
   "metadata": {},
   "outputs": [],
   "source": [
    "def plot_gaussian(mu, sigma):\n",
    "    plt.figure()\n",
    "    plt.xlim(-10, 10)\n",
    "    plt.ylim(0, .5)\n",
    "    xs = np.linspace(-10, 10)\n",
    "    plt.plot(xs,gaussian(xs, mu, sigma))\n",
    "    plt.show()"
   ]
  },
  {
   "cell_type": "markdown",
   "metadata": {},
   "source": [
    "Running the cell below will plot the Gaussian distribution interactively. By sliding the bars you can vary $\\mu$ and $\\sigma$ to see what happens the the shape of the distribution."
   ]
  },
  {
   "cell_type": "code",
   "execution_count": 78,
   "metadata": {},
   "outputs": [
    {
     "data": {
      "application/vnd.jupyter.widget-view+json": {
       "model_id": "a73b8738d6014d7c9993353f80a479bd"
      }
     },
     "metadata": {},
     "output_type": "display_data"
    },
    {
     "data": {
      "text/plain": [
       "<function __main__.plot_gaussian>"
      ]
     },
     "execution_count": 78,
     "metadata": {},
     "output_type": "execute_result"
    }
   ],
   "source": [
    "interact(plot_gaussian, mu=(-10., 10.), sigma=(1.,5.))"
   ]
  },
  {
   "cell_type": "markdown",
   "metadata": {},
   "source": [
    "In the 2AFC task of estimating velocities, subjects sample their estimates of two Gaussian distributions $p(\\hat{v_1}|v_1)$ and $p(\\hat{v_2}|v_2)$, and compare their estimated $\\hat{v_1}$ with their estimated $\\hat{v_2}$. The value of interest is thus the difference $\\hat{v_2} - \\hat{v_1}$. \n",
    "\n",
    "A well-known result is that the distribution of the difference between two Gaussian random variables is also a Gaussian, with the difference between the two means as mean, and the sum of the variances as variance. To find the probability that $p(\\hat{v_2}>\\hat{v_1})$, you just need to sum the (shaded) area under the curve of this difference distribution, for values of $\\hat{v_2} - \\hat{v_1}$ bigger than 0. \n",
    "\n",
    "In the cell below both an example $p(\\hat{v_1}|v_1)$ and $p(\\hat{v_2}|v_2)$ as well as the difference distribution are plotted."
   ]
  },
  {
   "cell_type": "code",
   "execution_count": 129,
   "metadata": {},
   "outputs": [
    {
     "data": {
      "image/png": "[encoded data removed]",
      "text/plain": [
       "<matplotlib.figure.Figure at 0x10fe551d0>"
      ]
     },
     "metadata": {},
     "output_type": "display_data"
    }
   ],
   "source": [
    "plt.figure()\n",
    "plt.xlim(-5, 20)\n",
    "plt.ylim(0, .5)\n",
    "xs = np.linspace(-5, 20)\n",
    "plt.plot(xs,gaussian(xs, mu=5, sigma=1.4))\n",
    "plt.plot(xs,gaussian(xs, mu=8, sigma=2))\n",
    "plt.xlabel('V')\n",
    "plt.ylabel('Probability')\n",
    "standard_dev_of_difference = np.sqrt(1.4 ** 2 + 2 ** 2)\n",
    "\n",
    "difference = gaussian(xs, mu=8-5, sigma=standard_dev_of_difference)\n",
    "plt.plot(xs, difference)\n",
    "\n",
    "plt.fill_between(xs[np.where(xs>0)], difference[np.where(xs>0)], 0, color='m',alpha=.2)\n",
    "\n",
    "plt.legend(['Estimate of V1 given true V1','Estimate of V2 given true V2', 'Difference'])\n",
    "plt.show()"
   ]
  },
  {
   "cell_type": "markdown",
   "metadata": {},
   "source": [
    "The area under the curve can be computed by solving the integral of the Gaussian distribution, to find the cumulative density function or CDF. This is computed numerically in the cells below, and the result is plotted interactively. \n",
    "\n",
    "Try playing around with the parameters of the Gaussian curve to see what happens to the resulting psychometric curve. "
   ]
  },
  {
   "cell_type": "code",
   "execution_count": 104,
   "metadata": {},
   "outputs": [],
   "source": [
    "def gaussian_integral(xs, mu, sigma):\n",
    "    # This function computes the numerical integral of a Gaussian distribution with \n",
    "    # mean mu and standard deviation sigma\n",
    "    binsize = np.diff(xs)[0]\n",
    "    integral = [sum(gaussian(xs[0:i], mu, sigma) * binsize) for i, x in enumerate(xs)]\n",
    "    return np.array(integral)"
   ]
  },
  {
   "cell_type": "code",
   "execution_count": 105,
   "metadata": {},
   "outputs": [],
   "source": [
    "def plot_gaussian_integral(mu, sigma):\n",
    "    plt.figure()\n",
    "    plt.title('The psychometric function')\n",
    "    xs = np.linspace(-10, 10)\n",
    "    plt.plot(xs, gaussian_integral(xs, mu, sigma))\n",
    "    plt.show()"
   ]
  },
  {
   "cell_type": "code",
   "execution_count": 107,
   "metadata": {},
   "outputs": [
    {
     "data": {
      "application/vnd.jupyter.widget-view+json": {
       "model_id": "95546504dad346489f244295ae882683"
      }
     },
     "metadata": {},
     "output_type": "display_data"
    },
    {
     "data": {
      "text/plain": [
       "<function __main__.plot_gaussian_integral>"
      ]
     },
     "execution_count": 107,
     "metadata": {},
     "output_type": "execute_result"
    }
   ],
   "source": [
    "interact(plot_gaussian_integral, mu=(-10,10), sigma=(.2,4))"
   ]
  }
 ],
 "metadata": {
  "kernelspec": {
   "display_name": "Python 3",
   "language": "python",
   "name": "python3"
  },
  "language_info": {
   "codemirror_mode": {
    "name": "ipython",
    "version": 3
   },
   "file_extension": ".py",
   "mimetype": "text/x-python",
   "name": "python",
   "nbconvert_exporter": "python",
   "pygments_lexer": "ipython3",
   "version": "3.6.1"
  }
 },
 "nbformat": 4,
 "nbformat_minor": 2
}
